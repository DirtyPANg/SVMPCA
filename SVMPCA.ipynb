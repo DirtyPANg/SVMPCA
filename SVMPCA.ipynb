{
 "cells": [
  {
   "attachments": {},
   "cell_type": "markdown",
   "metadata": {},
   "source": [
    "In this study, we aim to investigate the impact of data sparsity on the prediction performance of Support Vector Machine (SVM) algorithms using the MNIST dataset. To control for the effect of the SVM parameters, we use two SVM classifiers with the same settings, one trained on the original data and the other on the data transformed using Principal Component Analysis (PCA).\n",
    "\n",
    "First, we apply PCA to reduce the dimensionality of the data from 784 features to 100 principal components. This transformation results in a more compact representation of the data, effectively capturing the most significant variations while reducing noise and redundancy. We then visualize the transformed images to provide a qualitative understanding of the information retained in the compressed data. Both the training and testing sets are subjected to PCA to ensure consistency in the data processing.\n",
    "\n",
    "Next, we train an SVM classifier (`svm_classifier`) on the PCA-transformed data and another one (`svm_classifier_original`) on the original data, keeping their parameters identical. This allows us to directly compare their performances in terms of prediction accuracy on the respective datasets.\n",
    "\n",
    "Finally, we evaluate the prediction accuracy of both classifiers and draw conclusions regarding the impact of data sparsity on the performance of SVM classifiers. This study provides insights into the trade-offs between data compression and predictive performance, which is crucial for efficient and effective application of machine learning algorithms in real-world scenarios."
   ]
  },
  {
   "cell_type": "markdown",
   "metadata": {},
   "source": [
    "EDA Procedure:\n",
    "a. Load the MNIST dataset using popular libraries like TensorFlow or PyTorch.\n",
    "b. Visualize a few sample images from the dataset to get an understanding of the data.\n",
    "c. Analyze the distribution of the labels to check for any imbalance in the dataset.\n",
    "d. Perform normalization and scaling of the dataset, as SVMs are sensitive to the scale of the input features.\n",
    "\n",
    "Model Building and Training:\n",
    "a. Import the necessary libraries, such as sklearn for using the SVM classifier.\n",
    "b. Split the dataset into training and testing sets.\n",
    "c. Flatten the images from 28x28 pixels to a 1D array of 784 features.\n",
    "d. Train an SVM model with different kernel functions (e.g., linear, polynomial, and radial basis function) and various hyperparameters, such as the regularization parameter C and the kernel coefficients.\n",
    "e. Use techniques like cross-validation and grid search to fine-tune the hyperparameters and select the best model.\n",
    "f. Train the selected SVM model on the entire training set.\n",
    "g. Evaluate the performance of the trained SVM model on the test dataset, reporting metrics like accuracy, precision, recall, and F1-score."
   ]
  },
  {
   "cell_type": "code",
   "execution_count": 7,
   "metadata": {},
   "outputs": [
    {
     "name": "stderr",
     "output_type": "stream",
     "text": [
      "c:\\Users\\admin\\AppData\\Local\\Programs\\Python\\Python310\\lib\\site-packages\\sklearn\\datasets\\_openml.py:968: FutureWarning: The default value of `parser` will change from `'liac-arff'` to `'auto'` in 1.4. You can set `parser='auto'` to silence this warning. Therefore, an `ImportError` will be raised from 1.4 if the dataset is dense and pandas is not installed. Note that the pandas parser may return different data types. See the Notes Section in fetch_openml's API doc for details.\n",
      "  warn(\n"
     ]
    },
    {
     "name": "stdout",
     "output_type": "stream",
     "text": [
      "Accuracy: 62.79%\n"
     ]
    }
   ],
   "source": [
    "import numpy as np\n",
    "from sklearn import datasets\n",
    "from sklearn.model_selection import train_test_split\n",
    "from sklearn.preprocessing import StandardScaler\n",
    "from sklearn.svm import SVC\n",
    "from sklearn.metrics import accuracy_score\n",
    "from sklearn.decomposition import PCA\n",
    "\n",
    "# Load the MNIST dataset\n",
    "mnist = datasets.fetch_openml('mnist_784', version=1)\n",
    "\n",
    "# Normalize the data\n",
    "scaler = StandardScaler()\n",
    "data = scaler.fit_transform(mnist.data)\n",
    "\n",
    "# Perform PCA to reduce the number of features\n",
    "pca = PCA(n_components=100)\n",
    "data_pca = pca.fit_transform(data)\n",
    "\n",
    "# Randomly sample a subset of the data\n",
    "sample_size = 70000\n",
    "indices = np.random.choice(data_pca.shape[0], sample_size, replace=False)\n",
    "data_sampled = data_pca[indices]\n",
    "target_sampled = mnist.target[indices]\n",
    "\n",
    "# Split the dataset into training and testing sets\n",
    "X_train, X_test, y_train, y_test = train_test_split(data_sampled, target_sampled, test_size=0.2, random_state=42)\n",
    "\n",
    "# Train the SVM model\n",
    "svm_classifier = SVC(kernel='rbf', C=5, gamma=0.05, random_state=42)\n",
    "svm_classifier.fit(X_train, y_train)\n",
    "\n",
    "# Make predictions on the test set\n",
    "y_pred = svm_classifier.predict(X_test)\n",
    "\n",
    "# Calculate the accuracy\n",
    "accuracy = accuracy_score(y_test, y_pred)\n",
    "print(f\"Accuracy: {accuracy * 100:.2f}%\")\n"
   ]
  },
  {
   "cell_type": "code",
   "execution_count": 8,
   "metadata": {},
   "outputs": [
    {
     "data": {
      "image/png": "[encoded data removed]",
      "text/plain": [
       "<Figure size 1000x200 with 5 Axes>"
      ]
     },
     "metadata": {},
     "output_type": "display_data"
    }
   ],
   "source": [
    "import matplotlib.pyplot as plt\n",
    "from sklearn import datasets\n",
    "\n",
    "# Reconstruct the images after PCA\n",
    "mnist_reconstructed = pca.inverse_transform(data_sampled)\n",
    "\n",
    "# Visualize reconstructed images\n",
    "fig, axes = plt.subplots(1, 5, figsize=(10, 2))\n",
    "for idx, ax in zip(range(5), axes):\n",
    "    ax.imshow(mnist_reconstructed[idx].reshape(28, 28), cmap='gray')\n",
    "    ax.axis('off')\n",
    "plt.suptitle('Reconstructed Images after PCA')\n",
    "plt.show()"
   ]
  },
  {
   "attachments": {},
   "cell_type": "markdown",
   "metadata": {},
   "source": []
  },
  {
   "cell_type": "code",
   "execution_count": 9,
   "metadata": {},
   "outputs": [
    {
     "name": "stdout",
     "output_type": "stream",
     "text": [
      "Accuracy on original data: 33.86%\n"
     ]
    }
   ],
   "source": [
    "# Randomly sample a subset of the original data\n",
    "data_original_sampled = data[indices]\n",
    "\n",
    "# Split the dataset into training and testing sets for original data\n",
    "X_train_original, X_test_original, y_train_original, y_test_original = train_test_split(data_original_sampled, target_sampled, test_size=0.2, random_state=42)\n",
    "\n",
    "# Train the SVM model on the original data\n",
    "svm_classifier_original = SVC(kernel='rbf', C=5, gamma=0.05, random_state=42)\n",
    "svm_classifier_original.fit(X_train_original, y_train_original)\n",
    "\n",
    "\n",
    "# Make predictions on the test set for original data\n",
    "y_pred_original = svm_classifier_original.predict(X_test_original)\n",
    "\n",
    "# Calculate the accuracy for original data\n",
    "accuracy_original = accuracy_score(y_test_original, y_pred_original)\n",
    "print(f\"Accuracy on original data: {accuracy_original * 100:.2f}%\")\n"
   ]
  },
  {
   "cell_type": "code",
   "execution_count": 10,
   "metadata": {},
   "outputs": [
    {
     "name": "stdout",
     "output_type": "stream",
     "text": [
      "Accuracy on original data (training set): 100.00%\n",
      "Accuracy on PCA data (training set): 100.00%\n"
     ]
    }
   ],
   "source": [
    "# Make predictions on the training set for original data\n",
    "y_train_pred_original = svm_classifier_original.predict(X_train_original)\n",
    "\n",
    "# Calculate the accuracy for original data on the training set\n",
    "accuracy_train_original = accuracy_score(y_train_original, y_train_pred_original)\n",
    "print(f\"Accuracy on original data (training set): {accuracy_train_original * 100:.2f}%\")\n",
    "\n",
    "# Make predictions on the training set for PCA data\n",
    "y_train_pred_pca = svm_classifier.predict(X_train)\n",
    "\n",
    "# Calculate the accuracy for PCA data on the training set\n",
    "accuracy_train_pca = accuracy_score(y_train, y_train_pred_pca)\n",
    "print(f\"Accuracy on PCA data (training set): {accuracy_train_pca * 100:.2f}%\")\n"
   ]
  },
  {
   "attachments": {},
   "cell_type": "markdown",
   "metadata": {},
   "source": [
    "In conclusion, our study demonstrates that the SVM classifier trained on PCA-transformed data yields better generalization performance, as evidenced by the test set accuracy of 62.79%, compared to the pure SVM's test set accuracy of 33.86%. Both classifiers achieve perfect accuracy on their respective training sets, with scores of 100.00%. This finding suggests that under conditions of lower data sparsity, SVM classifiers exhibit stronger generalization capabilities.\n",
    "\n",
    "Another key takeaway from this study is the significant reduction in training time observed when using PCA-transformed data. Although we did not perform a formal analysis of time complexity, \n",
    "we observed that training the SVM on PCA-transformed data took only a tenth of the time it took for training on the original data on the same computer. This result highlights the benefits of appropriate data compression in reducing training time.\n",
    "\n",
    "However, there are some limitations to this study. Firstly, we only investigated the MNIST dataset, and the conclusions may not be directly applicable to other types of data, such as images from different sources or text data. Secondly, \n",
    "the PCA transformation was applied to both the training and testing sets simultaneously, which may have inadvertently incorporated some information from the test set into the training process. \n",
    "While this approach is theoretically feasible when combining the training and test sets for PCA in each iteration, it may not be practical in real-world applications. Future studies should address these limitations and explore the generalizability of the findings across various datasets and problem domains."
   ]
  }
 ],
 "metadata": {
  "kernelspec": {
   "display_name": "Python 3",
   "language": "python",
   "name": "python3"
  },
  "language_info": {
   "codemirror_mode": {
    "name": "ipython",
    "version": 3
   },
   "file_extension": ".py",
   "mimetype": "text/x-python",
   "name": "python",
   "nbconvert_exporter": "python",
   "pygments_lexer": "ipython3",
   "version": "3.10.6"
  },
  "orig_nbformat": 4
 },
 "nbformat": 4,
 "nbformat_minor": 2
}
